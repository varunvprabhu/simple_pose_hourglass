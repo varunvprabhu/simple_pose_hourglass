{
 "cells": [
  {
   "cell_type": "code",
   "execution_count": null,
   "metadata": {},
   "outputs": [],
   "source": [
    "import glob\n",
    "import numpy as np\n",
    "import cv2\n",
    "import h5py\n",
    "import os\n",
    "import tables"
   ]
  },
  {
   "cell_type": "code",
   "execution_count": null,
   "metadata": {},
   "outputs": [],
   "source": [
    "hdf5_save_path = \"../data/pose_raw.hdf5\"\n",
    "content_path = \"../../../precompiled_data/mpii_pose/images/\"\n",
    "data_path = \"../data/dataset_updated.txt\""
   ]
  },
  {
   "cell_type": "code",
   "execution_count": null,
   "metadata": {},
   "outputs": [],
   "source": [
    "lines = [line.rstrip('\\n') for line in open(data_path)]"
   ]
  },
  {
   "cell_type": "code",
   "execution_count": null,
   "metadata": {},
   "outputs": [],
   "source": [
    "print(len(lines))"
   ]
  },
  {
   "cell_type": "code",
   "execution_count": null,
   "metadata": {},
   "outputs": [],
   "source": [
    "content_num = len(lines)\n",
    "HEIGHT = 128\n",
    "WIDTH = 128\n",
    "CHANNELS = 3\n",
    "SHAPE = (0,HEIGHT, WIDTH, CHANNELS)\n",
    "img_dtype = tables.UInt8Atom()"
   ]
  },
  {
   "cell_type": "code",
   "execution_count": null,
   "metadata": {},
   "outputs": [],
   "source": [
    "hdf5_file = tables.open_file(hdf5_save_path, mode='w')\n",
    "pose_stick = hdf5_file.create_earray(hdf5_file.root, 'pose_stick', img_dtype, shape=SHAPE)"
   ]
  },
  {
   "cell_type": "code",
   "execution_count": null,
   "metadata": {},
   "outputs": [],
   "source": [
    "#init_array = [1.0,grid_coord_x,grid_coord_y,0.0625,0.0625]\n",
    "#grid_data[0,1,1,:] = init_array.extend(np.identity(16)[3,:])\n",
    "#print(init_array)\n",
    "#grid_data = np.zeros((content_num, 16, 16, 21),dtype=np.float32)"
   ]
  },
  {
   "cell_type": "code",
   "execution_count": null,
   "metadata": {},
   "outputs": [],
   "source": [
    "#(0 - r ankle, 1 - r knee, 2 - r hip, 3 - l hip, 4 - l knee, 5 - l ankle, 6 - pelvis, 7 - thorax, 8 - upper neck, \n",
    "#9 - head top, 10 - r wrist, 11 - r elbow, 12 - r shoulder, 13 - l shoulder, 14 - l elbow, 15 - l wrist)\n",
    "#0 - red, 1 - green, 2 - blue, 3 - white, 4 - light yellow, 5 - grey 6 - yellow 7 - orange 8 - violet\n",
    "#9 - maroon 10 - indigo  11 - brown 12 - pink 13 - light blue 14 - dark green 15 - dark blue\n",
    "\n",
    "color_val_array = [[255,0,0],[0,255,0],[0,0,255],[255,255,255],[127,127,0],[127,127,127],[255,255,0],\n",
    "                  [255,165,0],[238,130,238],[128,0,0],[75,0,130],[165,42,42],[255,192,203],[78,152,160],\n",
    "                  [0,128,0],[0,0,128]]\n",
    "\n",
    "print(color_val_array[3])\n"
   ]
  },
  {
   "cell_type": "code",
   "execution_count": null,
   "metadata": {},
   "outputs": [],
   "source": [
    "i = 0\n",
    "for line in lines:\n",
    "    line = line.split(\" \")\n",
    "    image_data = line[0]\n",
    "    image_data = image_data[0:13]\n",
    "    address = content_path + image_data\n",
    "    img = cv2.imread(address)\n",
    "    img_black = np.zeros((128,128,3), np.uint8)\n",
    "   \n",
    "    #split drawing to legs torso and hands\n",
    "    #legs\n",
    "    for item in range(5, 17, 2):\n",
    "        if (item + 3 < 17):\n",
    "            x1, y1 = float(line[item]), float(line[item + 1])\n",
    "            x2, y2 = float(line[item + 2]), float(line[item + 3])\n",
    "\n",
    "            x1 = x1 * 128.0/img.shape[1]\n",
    "            x2 = x2 * 128.0/img.shape[1]\n",
    "            y1 = y1 * 128.0/img.shape[0]\n",
    "            y2 = y2 * 128.0/img.shape[0]\n",
    "\n",
    "            if x1 < 0 or y1 < 0 or x2 < 0 or y2 < 0:\n",
    "                continue\n",
    "\n",
    "            #print(\"x1 \" + str(x1) + \" y1 \" + str(y1) + \" x2 \" + str(x2) + \" y2 \" + str(y2))\n",
    "            cv2.line(img_black,(int(x1),int(y1)),(int(x2),int(y2)),color_val_array[0],2)\n",
    "    \n",
    "    #torso\n",
    "    for item in range(17, 25, 2):\n",
    "        if (item + 3 < 25):\n",
    "            x1, y1 = float(line[item]), float(line[item + 1])\n",
    "            x2, y2 = float(line[item + 2]), float(line[item + 3])\n",
    "\n",
    "            x1 = x1 * 128.0/img.shape[1]\n",
    "            x2 = x2 * 128.0/img.shape[1]\n",
    "            y1 = y1 * 128.0/img.shape[0]\n",
    "            y2 = y2 * 128.0/img.shape[0]\n",
    "\n",
    "            if x1 < 0 or y1 < 0 or x2 < 0 or y2 < 0:\n",
    "                continue\n",
    "\n",
    "            cv2.line(img_black,(int(x1),int(y1)),(int(x2),int(y2)),color_val_array[1],2)\n",
    "\n",
    "     #hands       \n",
    "    for item in range(25, 37, 2):\n",
    "        if (item + 3 < 37):\n",
    "            x1, y1 = float(line[item]), float(line[item + 1])\n",
    "            x2, y2 = float(line[item + 2]), float(line[item + 3])\n",
    "\n",
    "            x1 = x1 * 128.0/img.shape[1]\n",
    "            x2 = x2 * 128.0/img.shape[1]\n",
    "            y1 = y1 * 128.0/img.shape[0]\n",
    "            y2 = y2 * 128.0/img.shape[0]\n",
    "\n",
    "            if x1 < 0 or y1 < 0 or x2 < 0 or y2 < 0:\n",
    "                continue\n",
    "\n",
    "            cv2.line(img_black,(int(x1),int(y1)),(int(x2),int(y2)),color_val_array[2],2) \n",
    "         \n",
    "    \n",
    "    i = i + 1\n",
    "        \n",
    "    pose_stick.append(img_black[None])"
   ]
  },
  {
   "cell_type": "code",
   "execution_count": null,
   "metadata": {},
   "outputs": [],
   "source": [
    "hdf5_file.close()"
   ]
  },
  {
   "cell_type": "code",
   "execution_count": null,
   "metadata": {},
   "outputs": [],
   "source": []
  },
  {
   "cell_type": "code",
   "execution_count": null,
   "metadata": {},
   "outputs": [],
   "source": [
    "hdf5_path = \"../data/pose_raw.hdf5\"\n",
    "hdf5_file = tables.open_file(hdf5_path, mode='r')\n",
    "pose_num = hdf5_file.root.pose_stick.shape[0]\n",
    "print(\" content num is \" + str(pose_num))"
   ]
  },
  {
   "cell_type": "code",
   "execution_count": null,
   "metadata": {},
   "outputs": [],
   "source": [
    "from matplotlib.pyplot import imshow\n",
    "import matplotlib.pyplot as plt\n",
    "%matplotlib inline"
   ]
  },
  {
   "cell_type": "code",
   "execution_count": null,
   "metadata": {},
   "outputs": [],
   "source": [
    "imshow(hdf5_file.root.pose_stick[987,:,:,:])"
   ]
  },
  {
   "cell_type": "code",
   "execution_count": null,
   "metadata": {},
   "outputs": [],
   "source": [
    "#(0 - r ankle, 1 - r knee, 2 - r hip, 3 - l hip, 4 - l knee, 5 - l ankle, 6 - pelvis, 7 - thorax, 8 - upper neck, \n",
    "#9 - head top, 10 - r wrist, 11 - r elbow, 12 - r shoulder, 13 - l shoulder, 14 - l elbow, 15 - l wrist)\n",
    "\n",
    "index = 29\n",
    "#img = img_array[index,:,:,:]\n",
    "content_path = \"../../../precompiled_data/mpii_pose/images/\"\n",
    "img = cv2.imread(content_path + \"036636184.jpg\")\n",
    "img_black = np.zeros((128,128,3), np.uint8)\n",
    "line = lines[index]\n",
    "line = line.split(\" \")\n",
    "\n",
    "#split drawing to legs torso and hands\n",
    "color_index = 0\n",
    "#legs\n",
    "for item in range(5, 17, 2):\n",
    "    if (item + 3 < 17):\n",
    "        x1, y1 = float(line[item]), float(line[item + 1])\n",
    "        x2, y2 = float(line[item + 2]), float(line[item + 3])\n",
    "        \n",
    "        x1 = x1 * 128.0/img.shape[1]\n",
    "        x2 = x2 * 128.0/img.shape[1]\n",
    "        y1 = y1 * 128.0/img.shape[0]\n",
    "        y2 = y2 * 128.0/img.shape[0]\n",
    "        \n",
    "        if x1 < 0 or y1 < 0 or x2 < 0 or y2 < 0:\n",
    "            #color_index = color_index + 1\n",
    "            continue\n",
    "        \n",
    "        print(\"x1 \" + str(x1) + \" y1 \" + str(y1) + \" x2 \" + str(x2) + \" y2 \" + str(y2))\n",
    "        cv2.line(img_black,(int(x1),int(y1)),(int(x2),int(y2)),color_val_array[0],2)\n",
    "        #color_index = color_index + 1 \n",
    "\n",
    "for item in range(17, 25, 2):\n",
    "    if (item + 3 < 25):\n",
    "        x1, y1 = float(line[item]), float(line[item + 1])\n",
    "        x2, y2 = float(line[item + 2]), float(line[item + 3])\n",
    "        \n",
    "        x1 = x1 * 128.0/img.shape[1]\n",
    "        x2 = x2 * 128.0/img.shape[1]\n",
    "        y1 = y1 * 128.0/img.shape[0]\n",
    "        y2 = y2 * 128.0/img.shape[0]\n",
    "        \n",
    "        if x1 < 0 or y1 < 0 or x2 < 0 or y2 < 0:\n",
    "            #color_index = color_index + 1\n",
    "            continue\n",
    "        \n",
    "        cv2.line(img_black,(int(x1),int(y1)),(int(x2),int(y2)),color_val_array[1],2)\n",
    "        #color_index = color_index + 1 \n",
    "\n",
    "for item in range(25, 37, 2):\n",
    "    if (item + 3 < 37):\n",
    "        x1, y1 = float(line[item]), float(line[item + 1])\n",
    "        x2, y2 = float(line[item + 2]), float(line[item + 3])\n",
    "        \n",
    "        x1 = x1 * 128.0/img.shape[1]\n",
    "        x2 = x2 * 128.0/img.shape[1]\n",
    "        y1 = y1 * 128.0/img.shape[0]\n",
    "        y2 = y2 * 128.0/img.shape[0]\n",
    "        \n",
    "        if x1 < 0 or y1 < 0 or x2 < 0 or y2 < 0:\n",
    "            #color_index = color_index + 1\n",
    "            continue\n",
    "        \n",
    "        cv2.line(img_black,(int(x1),int(y1)),(int(x2),int(y2)),color_val_array[2],2) \n",
    "        #color_index = color_index + 1\n",
    "\n",
    "imshow(img_black)"
   ]
  },
  {
   "cell_type": "code",
   "execution_count": null,
   "metadata": {},
   "outputs": [],
   "source": [
    "imshow(img)"
   ]
  },
  {
   "cell_type": "code",
   "execution_count": null,
   "metadata": {},
   "outputs": [],
   "source": []
  }
 ],
 "metadata": {
  "kernelspec": {
   "display_name": "Tensorflow-GPU",
   "language": "python",
   "name": "tf-gpu"
  },
  "language_info": {
   "codemirror_mode": {
    "name": "ipython",
    "version": 3
   },
   "file_extension": ".py",
   "mimetype": "text/x-python",
   "name": "python",
   "nbconvert_exporter": "python",
   "pygments_lexer": "ipython3",
   "version": "3.6.8"
  }
 },
 "nbformat": 4,
 "nbformat_minor": 2
}
